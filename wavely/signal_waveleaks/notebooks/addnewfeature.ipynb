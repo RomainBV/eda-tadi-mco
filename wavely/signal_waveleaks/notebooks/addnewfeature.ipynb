{
 "cells": [
  {
   "cell_type": "markdown",
   "metadata": {},
   "source": [
    "# Add a new feature\n",
    "\n",
    "Adding a new feature to be computed by the `FeaturesComputer` class is pretty easy and straightforward, and doesn't need to do heavy modification to the core code. The package uses the ability of Python to modify function via decorators to automatically add a function to the list of functions that compute features. \n"
   ]
  },
  {
   "cell_type": "code",
   "execution_count": 1,
   "metadata": {},
   "outputs": [],
   "source": [
    "%cd -q ../\n",
    "import numpy as np\n",
    "from wavely.signal.features.features import FeaturesComputer, feature, noexport\n",
    "from wavely.signal.units.helpers import split_signal"
   ]
  },
  {
   "cell_type": "markdown",
   "metadata": {},
   "source": [
    "### Simple feature\n",
    "\n",
    "To add a feature, start writing the function that computes the feature and returns its value. The function can take different values as input:\n",
    "  * `block`: a numpy array containing the audio data.\n",
    "  * `n_fft`: the size a the FFT used (only useful for spectrum computation)\n",
    "  * `window`: a numpy array containing the window that is to be applied to the audio data\n",
    "  * any other feature registered to be computed by `FeaturesComputer`\n",
    "\n",
    "Then adding the feature to the class is as simple as adding the `@feature` decorator to the function."
   ]
  },
  {
   "cell_type": "code",
   "execution_count": 2,
   "metadata": {},
   "outputs": [],
   "source": [
    "@feature\n",
    "def example(blocks: np.ndarray, window: np.ndarray) -> float:\n",
    "    return (blocks * window).std(axis=-1)"
   ]
  },
  {
   "cell_type": "markdown",
   "metadata": {},
   "source": [
    "### Feature tags and dims\n",
    "Features are tagged since `v0.4.0`. To add the corresponding tag and dimension to a feature, just specific it in the `@feature` decorator:"
   ]
  },
  {
   "cell_type": "code",
   "execution_count": 3,
   "metadata": {},
   "outputs": [],
   "source": [
    "@feature(\"mytag\", dims=[\"blocks\"])\n",
    "def example(blocks: np.ndarray, window: np.ndarray) -> float:\n",
    "    return (blocks * window).std(axis=-1)"
   ]
  },
  {
   "cell_type": "markdown",
   "metadata": {},
   "source": [
    "For more information, see the corresponding notebooks `tags.ipynb` and `dims.ipynb`."
   ]
  },
  {
   "cell_type": "markdown",
   "metadata": {},
   "source": [
    "#### NOTE:\n",
    "\n",
    "The feature will be named by the name of your function. It's also important to notice that inputs must have the same exact name of the feature they correspond. For example, adding a feature with a parameter ` bloc` and not `block` will throw an error.\n",
    "\n",
    "Any array reduction done in the function must be applied to the last axis. This is because audio blocks can either be represented by one dimension arrays in case of a single block computation, or by two dimension arrays for multiple blocks, with blocks data being column-wise."
   ]
  },
  {
   "cell_type": "code",
   "execution_count": 4,
   "metadata": {},
   "outputs": [
    {
     "name": "stderr",
     "output_type": "stream",
     "text": [
      "/home/maxime/Repositories/signal/wavely/signal/preprocessing/preprocessing.py:701: UserWarning: Empty filters detected in mel frequency basis. Some channels will produce empty responses. Try increasing your sampling rate (and fmax) or reducing n_mels.\n",
      "  \"Empty filters detected in mel frequency basis. \"\n"
     ]
    },
    {
     "data": {
      "text/plain": [
       "array([0.88622457])"
      ]
     },
     "execution_count": 4,
     "metadata": {},
     "output_type": "execute_result"
    }
   ],
   "source": [
    "block_size = 256\n",
    "rate = 192000\n",
    "x = np.random.randn(block_size)\n",
    "blocks = split_signal(x, rate, block_size / rate)\n",
    "\n",
    "fc = FeaturesComputer(block_size=block_size, rate=rate, n_fft=block_size, window=np.hanning)\n",
    "fc.compute(blocks)\n",
    "fc[\"example\"]"
   ]
  },
  {
   "cell_type": "markdown",
   "metadata": {},
   "source": [
    "To get the list of every feature that can be use as an input, you can use `fc.allfeatures()`."
   ]
  },
  {
   "cell_type": "code",
   "execution_count": 5,
   "metadata": {},
   "outputs": [
    {
     "data": {
      "text/plain": [
       "dict_keys(['peak_to_peak_displacement', 'spectralflatness', 'amplitude_envelope', 'bandflatness', 'spectrum', 'temporal_kurtosis', 'spectralcentroid', 'ultrasoundlevel', 'highfrequencycontent', 'crest', 'hilbert_transform', 'binfactor', 'peakfreq', 'audiblelevel', 'normspectrum', 'crest_factor', 'spectralspread', 'example', 'k_factor_acceleration', 'gl_filter', 'gl_acceleration', 'periodogram', 'instantaneous_phase', 'spectralirregularity', 'spectralentropy', 'crest_factor_acceleration', 'spectralskewness', 'bandcrest', 'spectralpower', 'spectralflux', 'rms', 'peak_to_peak', 'velocity', 'melspectrogram', 'instantaneous_frequency', 'band_periodogram', 'spectralkurtosis', 'dft', 'spectralcrest', 'displacement', 'enbw', 'gl_velocity', 'power', 'spectralrolloff', 'spl', 'zero_crossing_rate', 'bandleq'])"
      ]
     },
     "execution_count": 5,
     "metadata": {},
     "output_type": "execute_result"
    }
   ],
   "source": [
    "fc.allfeatures()"
   ]
  },
  {
   "cell_type": "markdown",
   "metadata": {},
   "source": [
    "### Temporary features\n",
    "\n",
    "You can also compute temporary features that are not meant to be exported (for example if you want to use a precomputed intermediary value for several features). Simply use the `@noexport` decorator."
   ]
  },
  {
   "cell_type": "code",
   "execution_count": 6,
   "metadata": {},
   "outputs": [],
   "source": [
    "@noexport\n",
    "@feature\n",
    "def halfwave(blocks: np.ndarray) -> np.ndarray:\n",
    "    blocks = blocks.copy()\n",
    "    blocks[blocks < 0.] = 0.\n",
    "    return blocks\n",
    "\n",
    "@feature\n",
    "def example2(halfwave: np.ndarray) -> np.ndarray:\n",
    "    return halfwave.mean(axis=-1)"
   ]
  },
  {
   "cell_type": "code",
   "execution_count": 7,
   "metadata": {},
   "outputs": [
    {
     "data": {
      "text/plain": [
       "array([0.37735171])"
      ]
     },
     "execution_count": 7,
     "metadata": {},
     "output_type": "execute_result"
    }
   ],
   "source": [
    "fc = FeaturesComputer(block_size=block_size, rate=rate, n_fft=block_size, window=np.hanning)\n",
    "fc.compute(blocks)\n",
    "fc[\"example2\"]"
   ]
  },
  {
   "cell_type": "markdown",
   "metadata": {},
   "source": [
    "### Per object feature\n",
    "\n",
    "A feature can be added to only one instance of `FeaturesComputer` with the decorator ` @fc.feature `. Other objects won't compute this feature."
   ]
  },
  {
   "cell_type": "code",
   "execution_count": 8,
   "metadata": {},
   "outputs": [
    {
     "data": {
      "text/plain": [
       "{'example3': array([0.81641938]), 'spl': array([93.39215545])}"
      ]
     },
     "execution_count": 8,
     "metadata": {},
     "output_type": "execute_result"
    }
   ],
   "source": [
    "fc = FeaturesComputer(block_size=block_size, rate=rate, n_fft=block_size, window=np.hanning)\n",
    "\n",
    "@fc.feature\n",
    "def example3(rms: float) -> float:\n",
    "    return rms**3\n",
    "\n",
    "fc.compute(blocks)"
   ]
  },
  {
   "cell_type": "code",
   "execution_count": 9,
   "metadata": {},
   "outputs": [
    {
     "data": {
      "text/plain": [
       "{'spl': array([93.39215545])}"
      ]
     },
     "execution_count": 9,
     "metadata": {},
     "output_type": "execute_result"
    }
   ],
   "source": [
    "fc = FeaturesComputer(block_size=block_size, rate=rate, n_fft=block_size, window=np.hanning)\n",
    "fc.compute(blocks)"
   ]
  }
 ],
 "metadata": {
  "kernelspec": {
   "display_name": "signal",
   "language": "python",
   "name": "signal"
  },
  "language_info": {
   "codemirror_mode": {
    "name": "ipython",
    "version": 3
   },
   "file_extension": ".py",
   "mimetype": "text/x-python",
   "name": "python",
   "nbconvert_exporter": "python",
   "pygments_lexer": "ipython3",
   "version": "3.5.9"
  }
 },
 "nbformat": 4,
 "nbformat_minor": 4
}
