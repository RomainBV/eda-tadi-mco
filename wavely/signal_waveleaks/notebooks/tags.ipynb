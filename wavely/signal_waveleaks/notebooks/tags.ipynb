{
 "cells": [
  {
   "cell_type": "markdown",
   "metadata": {
    "ein.tags": "worksheet-0",
    "slideshow": {
     "slide_type": "-"
    }
   },
   "source": [
    "# Introduction\n",
    "This notebook presents the tags used in the `wavely.signal` package."
   ]
  },
  {
   "cell_type": "code",
   "execution_count": 1,
   "metadata": {
    "autoscroll": false,
    "ein.hycell": false,
    "ein.tags": "worksheet-0",
    "scrolled": false,
    "slideshow": {
     "slide_type": "-"
    }
   },
   "outputs": [],
   "source": [
    "%matplotlib notebook\n",
    "import numpy as np\n",
    "from scipy.signal import chirp\n",
    "\n",
    "from wavely.signal.features.features import FeaturesComputer\n",
    "from wavely.signal.units.helpers import split_signal"
   ]
  },
  {
   "cell_type": "markdown",
   "metadata": {},
   "source": [
    "## The tags are present here "
   ]
  },
  {
   "cell_type": "code",
   "execution_count": 2,
   "metadata": {},
   "outputs": [
    {
     "data": {
      "text/plain": [
       "defaultdict(list,\n",
       "            {'1d': ['power',\n",
       "              'rms',\n",
       "              'crest_factor',\n",
       "              'temporal_kurtosis',\n",
       "              'spectralcentroid',\n",
       "              'spectralspread',\n",
       "              'spectralskewness',\n",
       "              'spectralkurtosis',\n",
       "              'spectralflatness',\n",
       "              'spectralcrest',\n",
       "              'spectralentropy',\n",
       "              'spectralflux',\n",
       "              'peakfreq',\n",
       "              'highfrequencycontent',\n",
       "              'spectralirregularity',\n",
       "              'spectralrolloff',\n",
       "              'spl',\n",
       "              'ultrasoundlevel',\n",
       "              'audiblelevel',\n",
       "              'gl_acceleration',\n",
       "              'gl_velocity',\n",
       "              'peak_to_peak_displacement',\n",
       "              'crest_factor_acceleration',\n",
       "              'k_factor_acceleration'],\n",
       "             'temporal': ['power', 'rms', 'crest_factor', 'temporal_kurtosis'],\n",
       "             '2d': ['amplitude_envelope',\n",
       "              'spectrum',\n",
       "              'melspectrogram',\n",
       "              'instantaneous_phase',\n",
       "              'instantaneous_frequency',\n",
       "              'bandleq',\n",
       "              'bandflatness',\n",
       "              'bandcrest',\n",
       "              'velocity',\n",
       "              'displacement'],\n",
       "             'spectral': ['amplitude_envelope',\n",
       "              'spectrum',\n",
       "              'melspectrogram',\n",
       "              'spectralcentroid',\n",
       "              'spectralspread',\n",
       "              'spectralskewness',\n",
       "              'spectralkurtosis',\n",
       "              'spectralflatness',\n",
       "              'spectralcrest',\n",
       "              'spectralentropy',\n",
       "              'spectralflux',\n",
       "              'peakfreq',\n",
       "              'highfrequencycontent',\n",
       "              'spectralirregularity',\n",
       "              'spectralrolloff',\n",
       "              'instantaneous_phase',\n",
       "              'instantaneous_frequency'],\n",
       "             'acoustic': ['spl',\n",
       "              'ultrasoundlevel',\n",
       "              'audiblelevel',\n",
       "              'bandleq',\n",
       "              'bandflatness',\n",
       "              'bandcrest'],\n",
       "             'vibration': ['velocity',\n",
       "              'displacement',\n",
       "              'gl_acceleration',\n",
       "              'gl_velocity',\n",
       "              'peak_to_peak_displacement',\n",
       "              'crest_factor_acceleration',\n",
       "              'k_factor_acceleration']})"
      ]
     },
     "execution_count": 2,
     "metadata": {},
     "output_type": "execute_result"
    }
   ],
   "source": [
    "FeaturesComputer._tag_features"
   ]
  },
  {
   "cell_type": "code",
   "execution_count": 3,
   "metadata": {},
   "outputs": [
    {
     "data": {
      "text/plain": [
       "{'power': ['block'],\n",
       " 'rms': ['block'],\n",
       " 'crest_factor': ['block'],\n",
       " 'temporal_kurtosis': ['block'],\n",
       " 'amplitude_envelope': ['block', 'time'],\n",
       " 'spectrum': ['block', 'frequency'],\n",
       " 'melspectrogram': ['block', 'mel_bands'],\n",
       " 'spectralcentroid': ['block'],\n",
       " 'spectralspread': ['block'],\n",
       " 'spectralskewness': ['block'],\n",
       " 'spectralkurtosis': ['block'],\n",
       " 'spectralflatness': ['block'],\n",
       " 'spectralcrest': ['block'],\n",
       " 'spectralentropy': ['block'],\n",
       " 'spectralflux': ['block'],\n",
       " 'peakfreq': ['block'],\n",
       " 'highfrequencycontent': ['block'],\n",
       " 'spectralirregularity': ['block'],\n",
       " 'spectralrolloff': ['block'],\n",
       " 'instantaneous_phase': ['block', 'time'],\n",
       " 'instantaneous_frequency': ['block', 'time'],\n",
       " 'spl': ['block'],\n",
       " 'ultrasoundlevel': ['block'],\n",
       " 'audiblelevel': ['block'],\n",
       " 'bandleq': ['block', 'frequency_bands'],\n",
       " 'bandflatness': ['block', 'frequency_bands'],\n",
       " 'bandcrest': ['block', 'frequency_bands'],\n",
       " 'velocity': ['block', 'time'],\n",
       " 'displacement': ['block', 'time'],\n",
       " 'gl_acceleration': ['block'],\n",
       " 'gl_velocity': ['block'],\n",
       " 'peak_to_peak_displacement': ['block'],\n",
       " 'crest_factor_acceleration': ['block'],\n",
       " 'k_factor_acceleration': ['block']}"
      ]
     },
     "execution_count": 3,
     "metadata": {},
     "output_type": "execute_result"
    }
   ],
   "source": [
    "FeaturesComputer._features_dimensions"
   ]
  },
  {
   "cell_type": "markdown",
   "metadata": {
    "ein.tags": "worksheet-0",
    "slideshow": {
     "slide_type": "-"
    }
   },
   "source": [
    "## How to tag ?\n",
    "In order to tag a feature, you just have to precise a string in the feature decorator like this: - `@feature(\"my_tag\")`\n"
   ]
  },
  {
   "cell_type": "markdown",
   "metadata": {},
   "source": [
    "# Selecting taged features"
   ]
  },
  {
   "cell_type": "markdown",
   "metadata": {},
   "source": [
    "First we generate a linear chirp signal with frequencies ranging from 10Hz to 35kHz, which will be our sample signal.\n",
    "\n",
    "Then we compute only taged features by using the `tags` argument. \n",
    "and Voilà"
   ]
  },
  {
   "cell_type": "code",
   "execution_count": 4,
   "metadata": {
    "autoscroll": false,
    "ein.hycell": false,
    "ein.tags": "worksheet-0",
    "scrolled": false,
    "slideshow": {
     "slide_type": "-"
    }
   },
   "outputs": [
    {
     "name": "stdout",
     "output_type": "stream",
     "text": [
      "instantaneous_phase\n",
      "instantaneous_frequency\n",
      "temporal_kurtosis\n",
      "crest_factor\n",
      "spectrum\n",
      "spectralflatness\n",
      "spectralentropy\n",
      "melspectrogram\n",
      "spectralskewness\n",
      "spectralrolloff\n",
      "rms\n",
      "spectralcrest\n",
      "spectralflux\n",
      "highfrequencycontent\n",
      "spectralirregularity\n",
      "spectralspread\n",
      "peakfreq\n",
      "amplitude_envelope\n",
      "spectralcentroid\n",
      "spectralkurtosis\n",
      "power\n"
     ]
    },
    {
     "name": "stderr",
     "output_type": "stream",
     "text": [
      "/home/maxime/.virtualenv/signal/lib/python3.7/site-packages/wavely/signal/preprocessing/preprocessing.py:921: UserWarning: Empty filters detected in mel frequency basis. Some channels will produce empty responses. Try increasing your sampling rate (and fmax) or reducing n_mels.\n",
      "  \"Empty filters detected in mel frequency basis. \"\n",
      "/home/maxime/.virtualenv/signal/lib/python3.7/site-packages/wavely/signal/units/helpers.py:51: UserWarning: If you keep the last part, a zero padding on the last block is performed so that the memory efficiency is not available.\n",
      "  \"If you keep the last part, a zero padding on the last block is performed \"\n"
     ]
    }
   ],
   "source": [
    "block_size = 256\n",
    "rate = 96000\n",
    "window = np.hanning\n",
    "fc = FeaturesComputer(\n",
    "    block_size=block_size, \n",
    "    rate=rate, \n",
    "    window=window, \n",
    "    features=\"all\",\n",
    "    tags=[\"temporal\", \"spectral\"]\n",
    ")\n",
    "\n",
    "t = np.arange(0.0, 100 * block_size / rate, 1 / rate)\n",
    "x = chirp(t, 10, t[-1], 35000, 'linear')\n",
    "\n",
    "blocks = split_signal(x, rate, block_size / rate)\n",
    "features = fc.compute(blocks)\n",
    "for key in features.keys():\n",
    "    print(key)"
   ]
  },
  {
   "cell_type": "markdown",
   "metadata": {},
   "source": [
    "Another example where we compute **only vibration features** for a given sin signal"
   ]
  },
  {
   "cell_type": "code",
   "execution_count": 5,
   "metadata": {},
   "outputs": [],
   "source": [
    "signal_size = 1  # s\n",
    "block_size = 1000  # samples\n",
    "rate = 48000  # Hz\n",
    "order = 5\n",
    "f1 = 100\n",
    "Wn = np.array([1e3, 10e3])\n",
    "t = np.arange(0, signal_size * rate)\n",
    "# sum of 2 sin signals\n",
    "x = 1 * np.sin(2.0 * np.pi * f1 * t)\n",
    "blocks = split_signal(x, rate, block_size / rate)"
   ]
  },
  {
   "cell_type": "code",
   "execution_count": 6,
   "metadata": {},
   "outputs": [
    {
     "name": "stdout",
     "output_type": "stream",
     "text": [
      "gl_acceleration\n",
      "velocity\n",
      "crest_factor_acceleration\n",
      "peak_to_peak_displacement\n",
      "gl_velocity\n",
      "k_factor_acceleration\n",
      "displacement\n"
     ]
    }
   ],
   "source": [
    "fc = FeaturesComputer(\n",
    "    block_size=block_size, \n",
    "    rate=rate,\n",
    "    features=\"all\", \n",
    "    tags=[\"vibration\"]\n",
    ")\n",
    "features = fc.compute(blocks)\n",
    "for key in features.keys():\n",
    "    print(key)"
   ]
  },
  {
   "cell_type": "code",
   "execution_count": null,
   "metadata": {},
   "outputs": [],
   "source": []
  }
 ],
 "metadata": {
  "kernelspec": {
   "display_name": "signal",
   "language": "python",
   "name": "signal"
  },
  "language_info": {
   "codemirror_mode": {
    "name": "ipython",
    "version": 3
   },
   "file_extension": ".py",
   "mimetype": "text/x-python",
   "name": "python",
   "nbconvert_exporter": "python",
   "pygments_lexer": "ipython3",
   "version": "3.7.10"
  },
  "name": "spectralfeatures.ipynb"
 },
 "nbformat": 4,
 "nbformat_minor": 2
}
