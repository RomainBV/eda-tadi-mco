{
 "cells": [
  {
   "cell_type": "markdown",
   "metadata": {
    "ein.tags": "worksheet-0",
    "slideshow": {
     "slide_type": "-"
    }
   },
   "source": [
    "# Introduction\n",
    "This notebook presents the dims used in the `wavely.signal` package."
   ]
  },
  {
   "cell_type": "code",
   "execution_count": 1,
   "metadata": {
    "autoscroll": false,
    "ein.hycell": false,
    "ein.tags": "worksheet-0",
    "scrolled": false,
    "slideshow": {
     "slide_type": "-"
    }
   },
   "outputs": [],
   "source": [
    "%matplotlib notebook\n",
    "import numpy as np\n",
    "from scipy.signal import chirp\n",
    "from wavely.signal.features.features import FeaturesComputer\n",
    "from wavely.signal.units.helpers import split_signal"
   ]
  },
  {
   "cell_type": "markdown",
   "metadata": {},
   "source": [
    "# Selecting specific dimension features"
   ]
  },
  {
   "cell_type": "markdown",
   "metadata": {},
   "source": [
    "First we generate a linear chirp signal with frequencies ranging from 10Hz to 35kHz, which will be our sample signal.\n",
    "\n",
    "Then we compute only 1d features by using the `dims` argument. \n",
    "and Voilà"
   ]
  },
  {
   "cell_type": "markdown",
   "metadata": {},
   "source": [
    "### First without the `dims` argument:"
   ]
  },
  {
   "cell_type": "code",
   "execution_count": 2,
   "metadata": {
    "autoscroll": false,
    "ein.hycell": false,
    "ein.tags": "worksheet-0",
    "scrolled": false,
    "slideshow": {
     "slide_type": "-"
    }
   },
   "outputs": [
    {
     "name": "stdout",
     "output_type": "stream",
     "text": [
      "spectrum, dims: ['block', 'frequency']\n",
      "melspectrogram, dims: ['block', 'mel_bands']\n",
      "spectralcentroid, dims: ['block']\n",
      "spectralirregularity, dims: ['block']\n",
      "spectralspread, dims: ['block']\n",
      "spectralrolloff, dims: ['block']\n",
      "spectralentropy, dims: ['block']\n",
      "peakfreq, dims: ['block']\n",
      "amplitude_envelope, dims: ['block', 'time']\n",
      "spectralkurtosis, dims: ['block']\n",
      "highfrequencycontent, dims: ['block']\n",
      "spectralskewness, dims: ['block']\n",
      "instantaneous_frequency, dims: ['block', 'time']\n",
      "spectralflatness, dims: ['block']\n",
      "spectralflux, dims: ['block']\n",
      "spectralcrest, dims: ['block']\n",
      "instantaneous_phase, dims: ['block', 'time']\n"
     ]
    },
    {
     "name": "stderr",
     "output_type": "stream",
     "text": [
      "/home/maxime/Repositories/signal/wavely/signal/preprocessing/preprocessing.py:701: UserWarning: Empty filters detected in mel frequency basis. Some channels will produce empty responses. Try increasing your sampling rate (and fmax) or reducing n_mels.\n",
      "  \"Empty filters detected in mel frequency basis. \"\n"
     ]
    }
   ],
   "source": [
    "block_size = 256\n",
    "rate = 96000.\n",
    "window = np.hanning\n",
    "fc = FeaturesComputer(\n",
    "    block_size=block_size, \n",
    "    rate=rate, \n",
    "    window=window, \n",
    "    features=\"all\",\n",
    "    tags=[\"spectral\"]\n",
    ")\n",
    "\n",
    "t = np.arange(0.0, 100 * block_size / rate, 1 / rate)\n",
    "x = chirp(t, 10, t[-1], 35000, 'linear')\n",
    "\n",
    "blocks = split_signal(x, rate, block_size / rate)\n",
    "features = fc.compute(blocks)\n",
    "for key in features.keys():\n",
    "    print(key + \", dims: \" + str(FeaturesComputer._features_dimensions[key]))"
   ]
  },
  {
   "cell_type": "markdown",
   "metadata": {},
   "source": [
    "### Now with `dims=1`\n",
    "The `logmelspectrogram` and `spectrum` are now absents since they are `2d` features and we specified `dims=[\"1d\"]`"
   ]
  },
  {
   "cell_type": "code",
   "execution_count": 3,
   "metadata": {},
   "outputs": [
    {
     "name": "stdout",
     "output_type": "stream",
     "text": [
      "spectralentropy, dims: ['block']\n",
      "spectralcentroid, dims: ['block']\n",
      "spectralirregularity, dims: ['block']\n",
      "spectralspread, dims: ['block']\n",
      "peakfreq, dims: ['block']\n",
      "spectralcrest, dims: ['block']\n",
      "spectralflux, dims: ['block']\n",
      "highfrequencycontent, dims: ['block']\n",
      "spectralskewness, dims: ['block']\n",
      "spectralrolloff, dims: ['block']\n",
      "spectralkurtosis, dims: ['block']\n",
      "spectralflatness, dims: ['block']\n"
     ]
    }
   ],
   "source": [
    "block_size = 256\n",
    "rate = 96000\n",
    "window = np.hanning\n",
    "fc = FeaturesComputer(\n",
    "    block_size=block_size, \n",
    "    rate=rate, \n",
    "    window=window, \n",
    "    features=\"all\",\n",
    "    tags=[\"spectral\"],\n",
    "    dims=[\"1d\"]\n",
    ")\n",
    "\n",
    "t = np.arange(0.0, 100 * block_size / rate, 1 / rate)\n",
    "\n",
    "blocks = split_signal(x, rate, block_size / rate)\n",
    "features = fc.compute(blocks)\n",
    "for key in features.keys():\n",
    "    print(key + \", dims: \" + str(FeaturesComputer._features_dimensions[key]))"
   ]
  },
  {
   "cell_type": "markdown",
   "metadata": {},
   "source": [
    "# Other example\n",
    "Another example where we compute **only vibration features 2d** for a given sin signal"
   ]
  },
  {
   "cell_type": "code",
   "execution_count": 4,
   "metadata": {},
   "outputs": [
    {
     "name": "stderr",
     "output_type": "stream",
     "text": [
      "/home/maxime/Repositories/signal/wavely/signal/units/helpers.py:48: UserWarning: Since the step is not multiple of the length of the signal, `split_signal` will crop the final element of the new sliced signal.\n",
      "  \"Since the step is not multiple of the \"\n"
     ]
    }
   ],
   "source": [
    "rate = 48000\n",
    "block_size = 1000\n",
    "order = 5\n",
    "f1 = 100\n",
    "Wn = np.array([1e3, 10e3])\n",
    "t = np.arange(0, block_size) / rate\n",
    "# sum of 2 sin signals\n",
    "s = 1 * np.sin(2.0 * np.pi * f1 * t)\n",
    "blocks = split_signal(x, rate, block_size / rate)"
   ]
  },
  {
   "cell_type": "code",
   "execution_count": 5,
   "metadata": {},
   "outputs": [
    {
     "name": "stdout",
     "output_type": "stream",
     "text": [
      "displacement\n",
      "velocity\n"
     ]
    }
   ],
   "source": [
    "fc = FeaturesComputer(\n",
    "    block_size=block_size, \n",
    "    rate=rate,\n",
    "    features=\"all\", \n",
    "    tags=[\"vibration\"], \n",
    "    dims=[\"2d\"]\n",
    ")\n",
    "features = fc.compute(blocks)\n",
    "for key in features.keys():\n",
    "    print(key)"
   ]
  }
 ],
 "metadata": {
  "kernelspec": {
   "display_name": "signal",
   "language": "python",
   "name": "signal"
  },
  "language_info": {
   "codemirror_mode": {
    "name": "ipython",
    "version": 3
   },
   "file_extension": ".py",
   "mimetype": "text/x-python",
   "name": "python",
   "nbconvert_exporter": "python",
   "pygments_lexer": "ipython3",
   "version": "3.5.9"
  },
  "name": "spectralfeatures.ipynb"
 },
 "nbformat": 4,
 "nbformat_minor": 2
}
